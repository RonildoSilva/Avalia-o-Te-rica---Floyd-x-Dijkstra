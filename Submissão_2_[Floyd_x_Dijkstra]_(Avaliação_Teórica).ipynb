{
  "nbformat": 4,
  "nbformat_minor": 0,
  "metadata": {
    "colab": {
      "name": "Submissão 2 [Floyd x Dijkstra] (Avaliação Teórica)",
      "provenance": [],
      "collapsed_sections": [],
      "authorship_tag": "ABX9TyNgTd6nkOgrBnIyCqePjG/v",
      "include_colab_link": true
    },
    "kernelspec": {
      "name": "python3",
      "display_name": "Python 3"
    }
  },
  "cells": [
    {
      "cell_type": "markdown",
      "metadata": {
        "id": "view-in-github",
        "colab_type": "text"
      },
      "source": [
        "<a href=\"https://colab.research.google.com/github/RonildoSilva/Avaliacao-Teorica--Floyd-x-Dijkstra/blob/master/Submiss%C3%A3o_2_%5BFloyd_x_Dijkstra%5D_(Avalia%C3%A7%C3%A3o_Te%C3%B3rica).ipynb\" target=\"_parent\"><img src=\"https://colab.research.google.com/assets/colab-badge.svg\" alt=\"Open In Colab\"/></a>"
      ]
    },
    {
      "cell_type": "markdown",
      "metadata": {
        "id": "L8XFWE7sqhsB",
        "colab_type": "text"
      },
      "source": [
        "# Projeto e Análise de Algoritmos\n",
        "## Avaliação Teórica de Algoritmos\n"
      ]
    },
    {
      "cell_type": "markdown",
      "metadata": {
        "id": "yE6ZbbAVUVFp",
        "colab_type": "text"
      },
      "source": [
        "Plot Matrix"
      ]
    },
    {
      "cell_type": "code",
      "metadata": {
        "id": "ZN_qgVEUUVw8",
        "colab_type": "code",
        "colab": {}
      },
      "source": [
        "import matplotlib.pyplot as plt\n",
        "import numpy as np\n",
        "\n",
        "def plot_matrix(graph):\n",
        "  data = graph\n",
        "  dim = len(data)\n",
        "  fig, ax = plt.subplots(figsize=(dim, dim))\n",
        "\n",
        "  ax.matshow(data, cmap='binary_r',  interpolation='nearest')\n",
        "\n",
        "  for (i, j), z in np.ndenumerate(data):\n",
        "      ax.text(j, i, '{:0.1f}'.format(z), ha='center', va='center',\n",
        "              bbox=dict(boxstyle='round', facecolor='white', edgecolor='0.3'))\n",
        "\n",
        "  plt.show()"
      ],
      "execution_count": 153,
      "outputs": []
    },
    {
      "cell_type": "markdown",
      "metadata": {
        "id": "OSsGNxJJTtvQ",
        "colab_type": "text"
      },
      "source": [
        "### Floyd Warshall Algorithm"
      ]
    },
    {
      "cell_type": "code",
      "metadata": {
        "id": "s5cTFoMHTtIU",
        "colab_type": "code",
        "colab": {}
      },
      "source": [
        "def floyd_warshall(graph): \n",
        "  #dist = map(lambda i : map(lambda j : j , i) , graph) \n",
        "  dist = graph\n",
        "  # Number of vertices in the graph \n",
        "  V = len(graph)\n",
        "\n",
        "  for k in range(V): \n",
        "    # pick all vertices as source one by one \n",
        "    for i in range(V): \n",
        "      # Pick all vertices as destination for the \n",
        "      # above picked source \n",
        "      for j in range(V): \n",
        "        dist[i][j] = min(dist[i][j], dist[i][k] + dist[k][j])\n",
        "\n",
        "  return dist\n"
      ],
      "execution_count": 154,
      "outputs": []
    },
    {
      "cell_type": "markdown",
      "metadata": {
        "id": "wYAaEQqgTwbf",
        "colab_type": "text"
      },
      "source": [
        "### Dijkstra Algorithm"
      ]
    },
    {
      "cell_type": "code",
      "metadata": {
        "id": "EKsdeNf4mVKU",
        "colab_type": "code",
        "colab": {}
      },
      "source": [
        "def min_distance(dist, sptSet, V):\n",
        "  min = float('inf')\n",
        "  min_index = 0 \n",
        "  \n",
        "  for v in range(V):\n",
        "    if (dist[v] < min and sptSet[v] == False):\n",
        "      min = dist[v]\n",
        "      min_index = v \n",
        "\n",
        "  return min_index "
      ],
      "execution_count": 155,
      "outputs": []
    },
    {
      "cell_type": "code",
      "metadata": {
        "id": "TYHlhsy8mdjt",
        "colab_type": "code",
        "colab": {}
      },
      "source": [
        "def dijkstra(src, graph): \n",
        "    V = len(graph)\n",
        "    dist = [float('inf')] * V\n",
        "    dist[src] = 0\n",
        "    sptSet = [False] * V\n",
        "    \n",
        "    for cout in range(V):\n",
        "      u = min_distance(dist, sptSet, V)\n",
        "      sptSet[u] = True\n",
        "      for v in range(V):\n",
        "        if graph[u][v] > 0 and sptSet[v] == False and dist[v] > dist[u] + graph[u][v]:\n",
        "          dist[v] = dist[u] + graph[u][v]\n",
        "\n",
        "    return dist\n"
      ],
      "execution_count": 156,
      "outputs": []
    },
    {
      "cell_type": "code",
      "metadata": {
        "id": "adcqd5G_q6W4",
        "colab_type": "code",
        "colab": {}
      },
      "source": [
        "def n_djikstra(graph):\n",
        "  dist_graph = list()\n",
        "  for i in range(len(graph)):\n",
        "    dist_graph.append(dijkstra(i, graph))\n",
        "\n",
        "  return dist_graph"
      ],
      "execution_count": 157,
      "outputs": []
    },
    {
      "cell_type": "markdown",
      "metadata": {
        "id": "Hu44zfykq6o2",
        "colab_type": "text"
      },
      "source": [
        "### Execução"
      ]
    },
    {
      "cell_type": "code",
      "metadata": {
        "id": "KoWZTMYBm3FW",
        "colab_type": "code",
        "colab": {}
      },
      "source": [
        "import numpy as np\n",
        "\n",
        "INF = float('inf')\n",
        "\n",
        "graph = [\n",
        "      [0,   5,    INF,  10], \n",
        "\t\t\t[INF, 0,    3,    INF], \n",
        "\t\t\t[INF, INF,  0,    1], \n",
        "\t\t\t[INF, INF,  INF,  0] \n",
        "\t\t] \n",
        "\n",
        "#graph = np.random.randint(100, size=(5,5))\n",
        "#np.fill_diagonal(graph, 0)\n",
        "\n",
        "floyd_warshall_graph = floyd_warshall(graph)\n",
        "n_djikstra_graph = n_djikstra(graph)"
      ],
      "execution_count": 158,
      "outputs": []
    },
    {
      "cell_type": "code",
      "metadata": {
        "id": "GClP3Hf7kUHG",
        "colab_type": "code",
        "colab": {
          "base_uri": "https://localhost:8080/",
          "height": 269
        },
        "outputId": "b2e37d3b-a0da-4a73-94c2-54fc9188b73b"
      },
      "source": [
        "plot_matrix(floyd_warshall_graph)"
      ],
      "execution_count": 159,
      "outputs": [
        {
          "output_type": "display_data",
          "data": {
            "image/png": "[encoded data removed]",
            "text/plain": [
              "<Figure size 288x288 with 1 Axes>"
            ]
          },
          "metadata": {
            "tags": [],
            "needs_background": "light"
          }
        }
      ]
    },
    {
      "cell_type": "code",
      "metadata": {
        "id": "vtJzGb5Du7eP",
        "colab_type": "code",
        "colab": {
          "base_uri": "https://localhost:8080/",
          "height": 269
        },
        "outputId": "37868433-a3eb-44dd-8ca9-14437e40ea44"
      },
      "source": [
        "plot_matrix(n_djikstra_graph)"
      ],
      "execution_count": 160,
      "outputs": [
        {
          "output_type": "display_data",
          "data": {
            "image/png": "[encoded data removed]",
            "text/plain": [
              "<Figure size 288x288 with 1 Axes>"
            ]
          },
          "metadata": {
            "tags": [],
            "needs_background": "light"
          }
        }
      ]
    },
    {
      "cell_type": "code",
      "metadata": {
        "id": "E5h51a-Nu-Ey",
        "colab_type": "code",
        "colab": {}
      },
      "source": [
        ""
      ],
      "execution_count": null,
      "outputs": []
    }
  ]
}