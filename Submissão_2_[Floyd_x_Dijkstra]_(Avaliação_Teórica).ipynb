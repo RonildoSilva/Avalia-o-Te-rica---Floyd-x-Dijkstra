{
  "nbformat": 4,
  "nbformat_minor": 0,
  "metadata": {
    "colab": {
      "name": "Submissão 2 [Floyd x Dijkstra] (Avaliação Teórica)",
      "provenance": [],
      "collapsed_sections": [],
      "authorship_tag": "ABX9TyMsUFPwFzcsjUjn5bsqC+8k",
      "include_colab_link": true
    },
    "kernelspec": {
      "name": "python3",
      "display_name": "Python 3"
    }
  },
  "cells": [
    {
      "cell_type": "markdown",
      "metadata": {
        "id": "view-in-github",
        "colab_type": "text"
      },
      "source": [
        "<a href=\"https://colab.research.google.com/github/RonildoSilva/Avaliacao-Teorica--Floyd-x-Dijkstra/blob/master/Submiss%C3%A3o_2_%5BFloyd_x_Dijkstra%5D_(Avalia%C3%A7%C3%A3o_Te%C3%B3rica).ipynb\" target=\"_parent\"><img src=\"https://colab.research.google.com/assets/colab-badge.svg\" alt=\"Open In Colab\"/></a>"
      ]
    },
    {
      "cell_type": "markdown",
      "metadata": {
        "id": "L8XFWE7sqhsB",
        "colab_type": "text"
      },
      "source": [
        "# Projeto e Análise de Algoritmos\n",
        "## Avaliação Teórica de Algoritmos\n"
      ]
    },
    {
      "cell_type": "markdown",
      "metadata": {
        "id": "yE6ZbbAVUVFp",
        "colab_type": "text"
      },
      "source": [
        "Plot Matrix"
      ]
    },
    {
      "cell_type": "code",
      "metadata": {
        "id": "ZN_qgVEUUVw8",
        "colab_type": "code",
        "colab": {}
      },
      "source": [
        "import matplotlib.pyplot as plt\n",
        "import numpy as np\n",
        "\n",
        "def plot_matrix(graph):\n",
        "  data = graph\n",
        "  dim = len(data)\n",
        "  fig, ax = plt.subplots(figsize=(dim, dim))\n",
        "\n",
        "  ax.matshow(data, cmap='binary_r',  interpolation='nearest')\n",
        "\n",
        "  for (i, j), z in np.ndenumerate(data):\n",
        "      ax.text(j, i, '{:0.1f}'.format(z), ha='center', va='center',\n",
        "              bbox=dict(boxstyle='round', facecolor='white', edgecolor='0.3'))\n",
        "\n",
        "  plt.show()"
      ],
      "execution_count": 153,
      "outputs": []
    },
    {
      "cell_type": "markdown",
      "metadata": {
        "id": "OSsGNxJJTtvQ",
        "colab_type": "text"
      },
      "source": [
        "### Floyd Warshall Algorithm"
      ]
    },
    {
      "cell_type": "code",
      "metadata": {
        "id": "s5cTFoMHTtIU",
        "colab_type": "code",
        "colab": {}
      },
      "source": [
        "def floyd_warshall(graph):\n",
        "  dist = graph\n",
        "  # Number of vertices in the graph \n",
        "  V = len(graph)\n",
        "\n",
        "  for k in range(V): \n",
        "    # pick all vertices as source one by one \n",
        "    for i in range(V): \n",
        "      # Pick all vertices as destination for the \n",
        "      # above picked source \n",
        "      for j in range(V): \n",
        "        dist[i][j] = min(dist[i][j], dist[i][k] + dist[k][j])\n",
        "\n",
        "  return dist\n"
      ],
      "execution_count": 166,
      "outputs": []
    },
    {
      "cell_type": "markdown",
      "metadata": {
        "id": "wYAaEQqgTwbf",
        "colab_type": "text"
      },
      "source": [
        "### Dijkstra Algorithm"
      ]
    },
    {
      "cell_type": "code",
      "metadata": {
        "id": "EKsdeNf4mVKU",
        "colab_type": "code",
        "colab": {}
      },
      "source": [
        "def min_distance(dist, sptSet, V):\n",
        "  min = float('inf')\n",
        "  min_index = 0 \n",
        "  \n",
        "  for v in range(V):\n",
        "    if (dist[v] < min and sptSet[v] == False):\n",
        "      min = dist[v]\n",
        "      min_index = v \n",
        "\n",
        "  return min_index "
      ],
      "execution_count": 155,
      "outputs": []
    },
    {
      "cell_type": "code",
      "metadata": {
        "id": "TYHlhsy8mdjt",
        "colab_type": "code",
        "colab": {}
      },
      "source": [
        "def dijkstra(src, graph): \n",
        "    V = len(graph)\n",
        "    dist = [float('inf')] * V\n",
        "    dist[src] = 0\n",
        "    sptSet = [False] * V\n",
        "    \n",
        "    for cout in range(V):\n",
        "      u = min_distance(dist, sptSet, V)\n",
        "      sptSet[u] = True\n",
        "      for v in range(V):\n",
        "        if graph[u][v] > 0 and sptSet[v] == False and dist[v] > dist[u] + graph[u][v]:\n",
        "          dist[v] = dist[u] + graph[u][v]\n",
        "\n",
        "    return dist\n"
      ],
      "execution_count": 156,
      "outputs": []
    },
    {
      "cell_type": "code",
      "metadata": {
        "id": "adcqd5G_q6W4",
        "colab_type": "code",
        "colab": {}
      },
      "source": [
        "def n_djikstra(graph):\n",
        "  dist_graph = list()\n",
        "  for i in range(len(graph)):\n",
        "    dist_graph.append(dijkstra(i, graph))\n",
        "\n",
        "  return dist_graph"
      ],
      "execution_count": 157,
      "outputs": []
    },
    {
      "cell_type": "markdown",
      "metadata": {
        "id": "Hu44zfykq6o2",
        "colab_type": "text"
      },
      "source": [
        "### Exemplo de execução"
      ]
    },
    {
      "cell_type": "code",
      "metadata": {
        "id": "KoWZTMYBm3FW",
        "colab_type": "code",
        "colab": {}
      },
      "source": [
        "INF = float('inf')\n",
        "\n",
        "graph = [\n",
        "      [0,   5,    INF,  10], \n",
        "\t\t\t[INF, 0,    3,    INF], \n",
        "\t\t\t[INF, INF,  0,    1], \n",
        "\t\t\t[INF, INF,  INF,  0] \n",
        "\t\t] \n",
        "\n",
        "# gera um grafo de n vertices\n",
        "#graph = np.random.randint(100, size=(5,5))\n",
        "# atribui a diagonal, valores iguais a 0\n",
        "#np.fill_diagonal(graph, 0)\n",
        "\n",
        "floyd_warshall_graph = floyd_warshall(graph)\n",
        "n_djikstra_graph = n_djikstra(graph)"
      ],
      "execution_count": 167,
      "outputs": []
    },
    {
      "cell_type": "code",
      "metadata": {
        "id": "8c1UtQ9JwMku",
        "colab_type": "code",
        "colab": {
          "base_uri": "https://localhost:8080/",
          "height": 34
        },
        "outputId": "544ca2e3-4af4-445f-c7d6-645d9dc59e8a"
      },
      "source": [
        "floyd_warshall_graph == n_djikstra_graph"
      ],
      "execution_count": 163,
      "outputs": [
        {
          "output_type": "execute_result",
          "data": {
            "text/plain": [
              "True"
            ]
          },
          "metadata": {
            "tags": []
          },
          "execution_count": 163
        }
      ]
    },
    {
      "cell_type": "code",
      "metadata": {
        "id": "GClP3Hf7kUHG",
        "colab_type": "code",
        "colab": {
          "base_uri": "https://localhost:8080/",
          "height": 269
        },
        "outputId": "5fca0c1f-33f9-4c5b-fb90-970c240e4b70"
      },
      "source": [
        "plot_matrix(floyd_warshall_graph)"
      ],
      "execution_count": 164,
      "outputs": [
        {
          "output_type": "display_data",
          "data": {
            "image/png": "[encoded data removed]",
            "text/plain": [
              "<Figure size 288x288 with 1 Axes>"
            ]
          },
          "metadata": {
            "tags": [],
            "needs_background": "light"
          }
        }
      ]
    },
    {
      "cell_type": "code",
      "metadata": {
        "id": "vtJzGb5Du7eP",
        "colab_type": "code",
        "colab": {
          "base_uri": "https://localhost:8080/",
          "height": 269
        },
        "outputId": "6b877c24-058f-4255-fb66-ef9dd59e3e06"
      },
      "source": [
        "plot_matrix(n_djikstra_graph)"
      ],
      "execution_count": 165,
      "outputs": [
        {
          "output_type": "display_data",
          "data": {
            "image/png": "[encoded data removed]",
            "text/plain": [
              "<Figure size 288x288 with 1 Axes>"
            ]
          },
          "metadata": {
            "tags": [],
            "needs_background": "light"
          }
        }
      ]
    },
    {
      "cell_type": "code",
      "metadata": {
        "id": "E5h51a-Nu-Ey",
        "colab_type": "code",
        "colab": {}
      },
      "source": [
        ""
      ],
      "execution_count": null,
      "outputs": []
    },
    {
      "cell_type": "markdown",
      "metadata": {
        "id": "gYYywjURyKrg",
        "colab_type": "text"
      },
      "source": [
        "## Análise"
      ]
    },
    {
      "cell_type": "markdown",
      "metadata": {
        "id": "9NBJVrSKyzMY",
        "colab_type": "text"
      },
      "source": [
        "### Execução"
      ]
    },
    {
      "cell_type": "code",
      "metadata": {
        "id": "3f2Wy1ze1VoV",
        "colab_type": "code",
        "colab": {
          "base_uri": "https://localhost:8080/",
          "height": 52
        },
        "outputId": "c63c8954-991c-423d-ecf6-31168d20c4b7"
      },
      "source": [
        "import numpy as np\n",
        "\n",
        "N = 5\n",
        "\n",
        "np.random.seed(42)\n",
        "\n",
        "graph = np.random.randint(100, size=(2,2))\n",
        "\n",
        "print(graph)"
      ],
      "execution_count": 215,
      "outputs": [
        {
          "output_type": "stream",
          "text": [
            "[[51 92]\n",
            " [14 71]]\n"
          ],
          "name": "stdout"
        }
      ]
    },
    {
      "cell_type": "code",
      "metadata": {
        "id": "q0uhksy6yMv9",
        "colab_type": "code",
        "colab": {}
      },
      "source": [
        "import random\n",
        "import time\n",
        "import numpy as np\n",
        "\n",
        "# estrutura dos dados\n",
        "size_time_data = list()\n",
        "cols = ['size', 'floyd_time', 'djikstra_time']\n",
        "\n",
        "# semente aleatoria\n",
        "np.random.seed(42)\n",
        "\n",
        "# menor valor numero de vertices\n",
        "N = 20\n",
        "# maior valor numero de vertices\n",
        "M = 50\n",
        "\n",
        "for i in range(N, M):\n",
        "    \n",
        "    # gera um grafo de n vertices\n",
        "    graph = np.random.randint(100, size=(i,i))\n",
        "\n",
        "    # atribui a diagonal, valores iguais a 0\n",
        "    np.fill_diagonal(graph, 0)\n",
        "\n",
        "    # floyd\n",
        "    start_floyd = time.time()\n",
        "    floyd_warshall(graph)\n",
        "    end_floyd = time.time()\n",
        "\n",
        "    delta_time_floyd = end_floyd - start_floyd\n",
        "\n",
        "    # djikstra\n",
        "    start_djikstra = time.time()\n",
        "    n_djikstra(graph)\n",
        "    end_djikstra = time.time()\n",
        "\n",
        "    delta_time_djikstra = end_djikstra - start_djikstra\n",
        "\n",
        "    size_time_data.append([i, delta_time_floyd, delta_time_djikstra])"
      ],
      "execution_count": 224,
      "outputs": []
    },
    {
      "cell_type": "markdown",
      "metadata": {
        "id": "dcg31rYky22F",
        "colab_type": "text"
      },
      "source": [
        "### Captura dos dados de execução"
      ]
    },
    {
      "cell_type": "code",
      "metadata": {
        "id": "UVtACK_-ywXA",
        "colab_type": "code",
        "colab": {}
      },
      "source": [
        "import pandas as pd"
      ],
      "execution_count": 225,
      "outputs": []
    },
    {
      "cell_type": "code",
      "metadata": {
        "id": "KrvTwcsDy8xq",
        "colab_type": "code",
        "colab": {}
      },
      "source": [
        "df_fl_dj = pd.DataFrame(size_time_data, columns=cols)"
      ],
      "execution_count": 226,
      "outputs": []
    },
    {
      "cell_type": "code",
      "metadata": {
        "id": "F-CTw6BxzReF",
        "colab_type": "code",
        "colab": {
          "base_uri": "https://localhost:8080/",
          "height": 990
        },
        "outputId": "4b5d14aa-3a74-4e35-e35d-9f8265bb3c34"
      },
      "source": [
        "df_fl_dj"
      ],
      "execution_count": 227,
      "outputs": [
        {
          "output_type": "execute_result",
          "data": {
            "text/html": [
              "<div>\n",
              "<style scoped>\n",
              "    .dataframe tbody tr th:only-of-type {\n",
              "        vertical-align: middle;\n",
              "    }\n",
              "\n",
              "    .dataframe tbody tr th {\n",
              "        vertical-align: top;\n",
              "    }\n",
              "\n",
              "    .dataframe thead th {\n",
              "        text-align: right;\n",
              "    }\n",
              "</style>\n",
              "<table border=\"1\" class=\"dataframe\">\n",
              "  <thead>\n",
              "    <tr style=\"text-align: right;\">\n",
              "      <th></th>\n",
              "      <th>size</th>\n",
              "      <th>floyd_time</th>\n",
              "      <th>djikstra_time</th>\n",
              "    </tr>\n",
              "  </thead>\n",
              "  <tbody>\n",
              "    <tr>\n",
              "      <th>0</th>\n",
              "      <td>20</td>\n",
              "      <td>0.012161</td>\n",
              "      <td>0.012123</td>\n",
              "    </tr>\n",
              "    <tr>\n",
              "      <th>1</th>\n",
              "      <td>21</td>\n",
              "      <td>0.015446</td>\n",
              "      <td>0.010435</td>\n",
              "    </tr>\n",
              "    <tr>\n",
              "      <th>2</th>\n",
              "      <td>22</td>\n",
              "      <td>0.017117</td>\n",
              "      <td>0.013242</td>\n",
              "    </tr>\n",
              "    <tr>\n",
              "      <th>3</th>\n",
              "      <td>23</td>\n",
              "      <td>0.017320</td>\n",
              "      <td>0.014828</td>\n",
              "    </tr>\n",
              "    <tr>\n",
              "      <th>4</th>\n",
              "      <td>24</td>\n",
              "      <td>0.019536</td>\n",
              "      <td>0.015610</td>\n",
              "    </tr>\n",
              "    <tr>\n",
              "      <th>5</th>\n",
              "      <td>25</td>\n",
              "      <td>0.023009</td>\n",
              "      <td>0.018382</td>\n",
              "    </tr>\n",
              "    <tr>\n",
              "      <th>6</th>\n",
              "      <td>26</td>\n",
              "      <td>0.025378</td>\n",
              "      <td>0.018241</td>\n",
              "    </tr>\n",
              "    <tr>\n",
              "      <th>7</th>\n",
              "      <td>27</td>\n",
              "      <td>0.027916</td>\n",
              "      <td>0.022423</td>\n",
              "    </tr>\n",
              "    <tr>\n",
              "      <th>8</th>\n",
              "      <td>28</td>\n",
              "      <td>0.030933</td>\n",
              "      <td>0.024008</td>\n",
              "    </tr>\n",
              "    <tr>\n",
              "      <th>9</th>\n",
              "      <td>29</td>\n",
              "      <td>0.034366</td>\n",
              "      <td>0.025563</td>\n",
              "    </tr>\n",
              "    <tr>\n",
              "      <th>10</th>\n",
              "      <td>30</td>\n",
              "      <td>0.044808</td>\n",
              "      <td>0.031963</td>\n",
              "    </tr>\n",
              "    <tr>\n",
              "      <th>11</th>\n",
              "      <td>31</td>\n",
              "      <td>0.041879</td>\n",
              "      <td>0.031261</td>\n",
              "    </tr>\n",
              "    <tr>\n",
              "      <th>12</th>\n",
              "      <td>32</td>\n",
              "      <td>0.045901</td>\n",
              "      <td>0.034928</td>\n",
              "    </tr>\n",
              "    <tr>\n",
              "      <th>13</th>\n",
              "      <td>33</td>\n",
              "      <td>0.049963</td>\n",
              "      <td>0.037601</td>\n",
              "    </tr>\n",
              "    <tr>\n",
              "      <th>14</th>\n",
              "      <td>34</td>\n",
              "      <td>0.054968</td>\n",
              "      <td>0.043769</td>\n",
              "    </tr>\n",
              "    <tr>\n",
              "      <th>15</th>\n",
              "      <td>35</td>\n",
              "      <td>0.059578</td>\n",
              "      <td>0.048745</td>\n",
              "    </tr>\n",
              "    <tr>\n",
              "      <th>16</th>\n",
              "      <td>36</td>\n",
              "      <td>0.065057</td>\n",
              "      <td>0.050367</td>\n",
              "    </tr>\n",
              "    <tr>\n",
              "      <th>17</th>\n",
              "      <td>37</td>\n",
              "      <td>0.070146</td>\n",
              "      <td>0.053755</td>\n",
              "    </tr>\n",
              "    <tr>\n",
              "      <th>18</th>\n",
              "      <td>38</td>\n",
              "      <td>0.075404</td>\n",
              "      <td>0.058673</td>\n",
              "    </tr>\n",
              "    <tr>\n",
              "      <th>19</th>\n",
              "      <td>39</td>\n",
              "      <td>0.082042</td>\n",
              "      <td>0.069468</td>\n",
              "    </tr>\n",
              "    <tr>\n",
              "      <th>20</th>\n",
              "      <td>40</td>\n",
              "      <td>0.088760</td>\n",
              "      <td>0.063823</td>\n",
              "    </tr>\n",
              "    <tr>\n",
              "      <th>21</th>\n",
              "      <td>41</td>\n",
              "      <td>0.096103</td>\n",
              "      <td>0.074420</td>\n",
              "    </tr>\n",
              "    <tr>\n",
              "      <th>22</th>\n",
              "      <td>42</td>\n",
              "      <td>0.103121</td>\n",
              "      <td>0.079305</td>\n",
              "    </tr>\n",
              "    <tr>\n",
              "      <th>23</th>\n",
              "      <td>43</td>\n",
              "      <td>0.110439</td>\n",
              "      <td>0.079372</td>\n",
              "    </tr>\n",
              "    <tr>\n",
              "      <th>24</th>\n",
              "      <td>44</td>\n",
              "      <td>0.116454</td>\n",
              "      <td>0.083326</td>\n",
              "    </tr>\n",
              "    <tr>\n",
              "      <th>25</th>\n",
              "      <td>45</td>\n",
              "      <td>0.133683</td>\n",
              "      <td>0.085731</td>\n",
              "    </tr>\n",
              "    <tr>\n",
              "      <th>26</th>\n",
              "      <td>46</td>\n",
              "      <td>0.133528</td>\n",
              "      <td>0.107062</td>\n",
              "    </tr>\n",
              "    <tr>\n",
              "      <th>27</th>\n",
              "      <td>47</td>\n",
              "      <td>0.144361</td>\n",
              "      <td>0.113359</td>\n",
              "    </tr>\n",
              "    <tr>\n",
              "      <th>28</th>\n",
              "      <td>48</td>\n",
              "      <td>0.164863</td>\n",
              "      <td>0.129237</td>\n",
              "    </tr>\n",
              "    <tr>\n",
              "      <th>29</th>\n",
              "      <td>49</td>\n",
              "      <td>0.172841</td>\n",
              "      <td>0.123495</td>\n",
              "    </tr>\n",
              "  </tbody>\n",
              "</table>\n",
              "</div>"
            ],
            "text/plain": [
              "    size  floyd_time  djikstra_time\n",
              "0     20    0.012161       0.012123\n",
              "1     21    0.015446       0.010435\n",
              "2     22    0.017117       0.013242\n",
              "3     23    0.017320       0.014828\n",
              "4     24    0.019536       0.015610\n",
              "5     25    0.023009       0.018382\n",
              "6     26    0.025378       0.018241\n",
              "7     27    0.027916       0.022423\n",
              "8     28    0.030933       0.024008\n",
              "9     29    0.034366       0.025563\n",
              "10    30    0.044808       0.031963\n",
              "11    31    0.041879       0.031261\n",
              "12    32    0.045901       0.034928\n",
              "13    33    0.049963       0.037601\n",
              "14    34    0.054968       0.043769\n",
              "15    35    0.059578       0.048745\n",
              "16    36    0.065057       0.050367\n",
              "17    37    0.070146       0.053755\n",
              "18    38    0.075404       0.058673\n",
              "19    39    0.082042       0.069468\n",
              "20    40    0.088760       0.063823\n",
              "21    41    0.096103       0.074420\n",
              "22    42    0.103121       0.079305\n",
              "23    43    0.110439       0.079372\n",
              "24    44    0.116454       0.083326\n",
              "25    45    0.133683       0.085731\n",
              "26    46    0.133528       0.107062\n",
              "27    47    0.144361       0.113359\n",
              "28    48    0.164863       0.129237\n",
              "29    49    0.172841       0.123495"
            ]
          },
          "metadata": {
            "tags": []
          },
          "execution_count": 227
        }
      ]
    },
    {
      "cell_type": "markdown",
      "metadata": {
        "id": "7NzhEND4zqKj",
        "colab_type": "text"
      },
      "source": [
        "### Exibição dos dados"
      ]
    },
    {
      "cell_type": "code",
      "metadata": {
        "id": "RrF42e0XzSoL",
        "colab_type": "code",
        "colab": {
          "base_uri": "https://localhost:8080/",
          "height": 475
        },
        "outputId": "80bb1209-03b2-4d6c-878c-bd16271c6a2f"
      },
      "source": [
        "import matplotlib.pyplot as plt\n",
        "\n",
        "plt.figure(figsize=(16,7))\n",
        "plt.title('Comparação de tempo de execução dos algorimos')\n",
        "\n",
        "plt.plot(df_fl_dj['size'], df_fl_dj['floyd_time'], \n",
        "         color='green', marker='o', linestyle='dashed')\n",
        "\n",
        "plt.plot(df_fl_dj['size'], df_fl_dj['djikstra_time'], \n",
        "         color='blue', marker='o', linestyle='dashed')\n",
        "\n",
        "#plt.scatter(df_dijkstra['size'], df_dijkstra['time'])\n",
        "\n",
        "plt.xlabel('Tamanho (núúmero de vértices)')\n",
        "plt.ylabel('Tempo (segundos)')\n",
        "\n",
        "plt.legend(['Floyd', 'Djikstra'])"
      ],
      "execution_count": 228,
      "outputs": [
        {
          "output_type": "execute_result",
          "data": {
            "text/plain": [
              "<matplotlib.legend.Legend at 0x7f5eb4c056d8>"
            ]
          },
          "metadata": {
            "tags": []
          },
          "execution_count": 228
        },
        {
          "output_type": "display_data",
          "data": {
            "image/png": "[encoded data removed]",
            "text/plain": [
              "<Figure size 1152x504 with 1 Axes>"
            ]
          },
          "metadata": {
            "tags": [],
            "needs_background": "light"
          }
        }
      ]
    },
    {
      "cell_type": "code",
      "metadata": {
        "id": "YUE4ROZ1zyI8",
        "colab_type": "code",
        "colab": {}
      },
      "source": [
        ""
      ],
      "execution_count": null,
      "outputs": []
    }
  ]
}