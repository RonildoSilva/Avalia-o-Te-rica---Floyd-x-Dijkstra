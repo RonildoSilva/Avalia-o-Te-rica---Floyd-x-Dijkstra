{
  "nbformat": 4,
  "nbformat_minor": 0,
  "metadata": {
    "colab": {
      "name": "Submissão 2 [Floyd x Dijkstra] (Avaliação Teórica)",
      "provenance": [],
      "collapsed_sections": [],
      "authorship_tag": "ABX9TyNCFNIwMOkDTV9mjxIaLiZJ",
      "include_colab_link": true
    },
    "kernelspec": {
      "name": "python3",
      "display_name": "Python 3"
    }
  },
  "cells": [
    {
      "cell_type": "markdown",
      "metadata": {
        "id": "view-in-github",
        "colab_type": "text"
      },
      "source": [
        "<a href=\"https://colab.research.google.com/github/RonildoSilva/Avaliacao-Teorica--Floyd-x-Dijkstra/blob/master/Submiss%C3%A3o_2_%5BFloyd_x_Dijkstra%5D_(Avalia%C3%A7%C3%A3o_Te%C3%B3rica).ipynb\" target=\"_parent\"><img src=\"https://colab.research.google.com/assets/colab-badge.svg\" alt=\"Open In Colab\"/></a>"
      ]
    },
    {
      "cell_type": "markdown",
      "metadata": {
        "id": "L8XFWE7sqhsB",
        "colab_type": "text"
      },
      "source": [
        "# Projeto e Análise de Algoritmos\n",
        "## Avaliação Teórica de Algoritmos\n"
      ]
    },
    {
      "cell_type": "markdown",
      "metadata": {
        "id": "yE6ZbbAVUVFp",
        "colab_type": "text"
      },
      "source": [
        "Plot Matrix"
      ]
    },
    {
      "cell_type": "code",
      "metadata": {
        "id": "ZN_qgVEUUVw8",
        "colab_type": "code",
        "colab": {}
      },
      "source": [
        "import matplotlib.pyplot as plt\n",
        "import numpy as np\n",
        "\n",
        "def plot_matrix(graph):\n",
        "  data = graph\n",
        "  dim = len(data)\n",
        "  fig, ax = plt.subplots(figsize=(dim, dim))\n",
        "\n",
        "  ax.matshow(data, cmap='binary_r',  interpolation='nearest')\n",
        "\n",
        "  for (i, j), z in np.ndenumerate(data):\n",
        "      ax.text(j, i, '{:0.1f}'.format(z), ha='center', va='center',\n",
        "              bbox=dict(boxstyle='round', facecolor='white', edgecolor='0.3'))\n",
        "\n",
        "  plt.show()"
      ],
      "execution_count": 153,
      "outputs": []
    },
    {
      "cell_type": "markdown",
      "metadata": {
        "id": "OSsGNxJJTtvQ",
        "colab_type": "text"
      },
      "source": [
        "### Floyd Warshall Algorithm"
      ]
    },
    {
      "cell_type": "code",
      "metadata": {
        "id": "s5cTFoMHTtIU",
        "colab_type": "code",
        "colab": {}
      },
      "source": [
        "def floyd_warshall(graph):\n",
        "  dist = graph\n",
        "  # Number of vertices in the graph \n",
        "  V = len(graph)\n",
        "\n",
        "  for k in range(V): \n",
        "    # pick all vertices as source one by one \n",
        "    for i in range(V): \n",
        "      # Pick all vertices as destination for the \n",
        "      # above picked source \n",
        "      for j in range(V): \n",
        "        dist[i][j] = min(dist[i][j], dist[i][k] + dist[k][j])\n",
        "\n",
        "  return dist\n"
      ],
      "execution_count": 166,
      "outputs": []
    },
    {
      "cell_type": "markdown",
      "metadata": {
        "id": "wYAaEQqgTwbf",
        "colab_type": "text"
      },
      "source": [
        "### Dijkstra Algorithm"
      ]
    },
    {
      "cell_type": "code",
      "metadata": {
        "id": "EKsdeNf4mVKU",
        "colab_type": "code",
        "colab": {}
      },
      "source": [
        "def min_distance(dist, sptSet, V):\n",
        "  min = float('inf')\n",
        "  min_index = 0 \n",
        "  \n",
        "  for v in range(V):\n",
        "    if (dist[v] < min and sptSet[v] == False):\n",
        "      min = dist[v]\n",
        "      min_index = v \n",
        "\n",
        "  return min_index "
      ],
      "execution_count": 155,
      "outputs": []
    },
    {
      "cell_type": "code",
      "metadata": {
        "id": "TYHlhsy8mdjt",
        "colab_type": "code",
        "colab": {}
      },
      "source": [
        "def dijkstra(src, graph): \n",
        "    V = len(graph)\n",
        "    dist = [float('inf')] * V\n",
        "    dist[src] = 0\n",
        "    sptSet = [False] * V\n",
        "    \n",
        "    for cout in range(V):\n",
        "      u = min_distance(dist, sptSet, V)\n",
        "      sptSet[u] = True\n",
        "      for v in range(V):\n",
        "        if graph[u][v] > 0 and sptSet[v] == False and dist[v] > dist[u] + graph[u][v]:\n",
        "          dist[v] = dist[u] + graph[u][v]\n",
        "\n",
        "    return dist\n"
      ],
      "execution_count": 156,
      "outputs": []
    },
    {
      "cell_type": "code",
      "metadata": {
        "id": "adcqd5G_q6W4",
        "colab_type": "code",
        "colab": {}
      },
      "source": [
        "def n_djikstra(graph):\n",
        "  dist_graph = list()\n",
        "  for i in range(len(graph)):\n",
        "    dist_graph.append(dijkstra(i, graph))\n",
        "\n",
        "  return dist_graph"
      ],
      "execution_count": 157,
      "outputs": []
    },
    {
      "cell_type": "markdown",
      "metadata": {
        "id": "Hu44zfykq6o2",
        "colab_type": "text"
      },
      "source": [
        "### Exemplo de execução"
      ]
    },
    {
      "cell_type": "code",
      "metadata": {
        "id": "KoWZTMYBm3FW",
        "colab_type": "code",
        "colab": {}
      },
      "source": [
        "INF = float('inf')\n",
        "\n",
        "graph = [\n",
        "      [0,   5,    INF,  10], \n",
        "\t\t\t[INF, 0,    3,    INF], \n",
        "\t\t\t[INF, INF,  0,    1], \n",
        "\t\t\t[INF, INF,  INF,  0] \n",
        "\t\t] \n",
        "\n",
        "# gera um grafo de n vertices\n",
        "#graph = np.random.randint(100, size=(5,5))\n",
        "# atribui a diagonal, valores iguais a 0\n",
        "#np.fill_diagonal(graph, 0)\n",
        "\n",
        "floyd_warshall_graph = floyd_warshall(graph)\n",
        "n_djikstra_graph = n_djikstra(graph)"
      ],
      "execution_count": 167,
      "outputs": []
    },
    {
      "cell_type": "code",
      "metadata": {
        "id": "8c1UtQ9JwMku",
        "colab_type": "code",
        "colab": {
          "base_uri": "https://localhost:8080/",
          "height": 34
        },
        "outputId": "544ca2e3-4af4-445f-c7d6-645d9dc59e8a"
      },
      "source": [
        "floyd_warshall_graph == n_djikstra_graph"
      ],
      "execution_count": 163,
      "outputs": [
        {
          "output_type": "execute_result",
          "data": {
            "text/plain": [
              "True"
            ]
          },
          "metadata": {
            "tags": []
          },
          "execution_count": 163
        }
      ]
    },
    {
      "cell_type": "code",
      "metadata": {
        "id": "GClP3Hf7kUHG",
        "colab_type": "code",
        "colab": {
          "base_uri": "https://localhost:8080/",
          "height": 269
        },
        "outputId": "5fca0c1f-33f9-4c5b-fb90-970c240e4b70"
      },
      "source": [
        "plot_matrix(floyd_warshall_graph)"
      ],
      "execution_count": 164,
      "outputs": [
        {
          "output_type": "display_data",
          "data": {
            "image/png": "[encoded data removed]",
            "text/plain": [
              "<Figure size 288x288 with 1 Axes>"
            ]
          },
          "metadata": {
            "tags": [],
            "needs_background": "light"
          }
        }
      ]
    },
    {
      "cell_type": "code",
      "metadata": {
        "id": "vtJzGb5Du7eP",
        "colab_type": "code",
        "colab": {
          "base_uri": "https://localhost:8080/",
          "height": 269
        },
        "outputId": "6b877c24-058f-4255-fb66-ef9dd59e3e06"
      },
      "source": [
        "plot_matrix(n_djikstra_graph)"
      ],
      "execution_count": 165,
      "outputs": [
        {
          "output_type": "display_data",
          "data": {
            "image/png": "[encoded data removed]",
            "text/plain": [
              "<Figure size 288x288 with 1 Axes>"
            ]
          },
          "metadata": {
            "tags": [],
            "needs_background": "light"
          }
        }
      ]
    },
    {
      "cell_type": "code",
      "metadata": {
        "id": "E5h51a-Nu-Ey",
        "colab_type": "code",
        "colab": {}
      },
      "source": [
        ""
      ],
      "execution_count": null,
      "outputs": []
    },
    {
      "cell_type": "markdown",
      "metadata": {
        "id": "gYYywjURyKrg",
        "colab_type": "text"
      },
      "source": [
        "## Análise"
      ]
    },
    {
      "cell_type": "markdown",
      "metadata": {
        "id": "9NBJVrSKyzMY",
        "colab_type": "text"
      },
      "source": [
        "### Execução"
      ]
    },
    {
      "cell_type": "code",
      "metadata": {
        "id": "3f2Wy1ze1VoV",
        "colab_type": "code",
        "colab": {
          "base_uri": "https://localhost:8080/",
          "height": 52
        },
        "outputId": "ed378f66-4b6e-4f56-d051-e9c428ed0062"
      },
      "source": [
        "import numpy as np\n",
        "\n",
        "N = 5\n",
        "\n",
        "np.random.seed(9)\n",
        "\n",
        "graph = np.random.randint(100, size=(2,2))\n",
        "\n",
        "print(graph)"
      ],
      "execution_count": 203,
      "outputs": [
        {
          "output_type": "stream",
          "text": [
            "[[92 54]\n",
            " [56 22]]\n"
          ],
          "name": "stdout"
        }
      ]
    },
    {
      "cell_type": "code",
      "metadata": {
        "id": "q0uhksy6yMv9",
        "colab_type": "code",
        "colab": {}
      },
      "source": [
        "import random\n",
        "import time\n",
        "\n",
        "size_time_data = list()\n",
        "cols = ['size', 'time']\n",
        "\n",
        "for i in range(N):\n",
        "    start = time.time()\n",
        "    time.sleep(5 * i)\n",
        "    end = time.time()\n",
        "\n",
        "    delta_time = end - start\n",
        "\n",
        "    size_time_data.append([i, delta_time])"
      ],
      "execution_count": 177,
      "outputs": []
    },
    {
      "cell_type": "markdown",
      "metadata": {
        "id": "dcg31rYky22F",
        "colab_type": "text"
      },
      "source": [
        "### Captura dos dados de execução"
      ]
    },
    {
      "cell_type": "code",
      "metadata": {
        "id": "UVtACK_-ywXA",
        "colab_type": "code",
        "colab": {}
      },
      "source": [
        "import pandas as pd"
      ],
      "execution_count": 174,
      "outputs": []
    },
    {
      "cell_type": "code",
      "metadata": {
        "id": "KrvTwcsDy8xq",
        "colab_type": "code",
        "colab": {}
      },
      "source": [
        "df_dijkstra = pd.DataFrame(size_time_data, columns=cols)"
      ],
      "execution_count": 178,
      "outputs": []
    },
    {
      "cell_type": "code",
      "metadata": {
        "id": "F-CTw6BxzReF",
        "colab_type": "code",
        "colab": {
          "base_uri": "https://localhost:8080/",
          "height": 206
        },
        "outputId": "34af3f1b-cfe2-4d82-ac4d-72117126e7eb"
      },
      "source": [
        "df_dijkstra"
      ],
      "execution_count": 179,
      "outputs": [
        {
          "output_type": "execute_result",
          "data": {
            "text/html": [
              "<div>\n",
              "<style scoped>\n",
              "    .dataframe tbody tr th:only-of-type {\n",
              "        vertical-align: middle;\n",
              "    }\n",
              "\n",
              "    .dataframe tbody tr th {\n",
              "        vertical-align: top;\n",
              "    }\n",
              "\n",
              "    .dataframe thead th {\n",
              "        text-align: right;\n",
              "    }\n",
              "</style>\n",
              "<table border=\"1\" class=\"dataframe\">\n",
              "  <thead>\n",
              "    <tr style=\"text-align: right;\">\n",
              "      <th></th>\n",
              "      <th>size</th>\n",
              "      <th>time</th>\n",
              "    </tr>\n",
              "  </thead>\n",
              "  <tbody>\n",
              "    <tr>\n",
              "      <th>0</th>\n",
              "      <td>0</td>\n",
              "      <td>0.000018</td>\n",
              "    </tr>\n",
              "    <tr>\n",
              "      <th>1</th>\n",
              "      <td>1</td>\n",
              "      <td>5.005151</td>\n",
              "    </tr>\n",
              "    <tr>\n",
              "      <th>2</th>\n",
              "      <td>2</td>\n",
              "      <td>10.001547</td>\n",
              "    </tr>\n",
              "    <tr>\n",
              "      <th>3</th>\n",
              "      <td>3</td>\n",
              "      <td>15.015137</td>\n",
              "    </tr>\n",
              "    <tr>\n",
              "      <th>4</th>\n",
              "      <td>4</td>\n",
              "      <td>20.020095</td>\n",
              "    </tr>\n",
              "  </tbody>\n",
              "</table>\n",
              "</div>"
            ],
            "text/plain": [
              "   size       time\n",
              "0     0   0.000018\n",
              "1     1   5.005151\n",
              "2     2  10.001547\n",
              "3     3  15.015137\n",
              "4     4  20.020095"
            ]
          },
          "metadata": {
            "tags": []
          },
          "execution_count": 179
        }
      ]
    },
    {
      "cell_type": "markdown",
      "metadata": {
        "id": "7NzhEND4zqKj",
        "colab_type": "text"
      },
      "source": [
        "### Exibição dos dados"
      ]
    },
    {
      "cell_type": "code",
      "metadata": {
        "id": "RrF42e0XzSoL",
        "colab_type": "code",
        "colab": {
          "base_uri": "https://localhost:8080/",
          "height": 296
        },
        "outputId": "9ca0e591-ce20-4f17-cb44-ceb4c41f29a0"
      },
      "source": [
        "import matplotlib.pyplot as plt\n",
        "\n",
        "plt.plot(df_dijkstra['size'], df_dijkstra['time'], \n",
        "         color='green', marker='o', linestyle='dashed')\n",
        "\n",
        "#plt.scatter(df_dijkstra['size'], df_dijkstra['time'])\n",
        "\n",
        "plt.xlabel('Tamanho')\n",
        "plt.ylabel('Tempo')"
      ],
      "execution_count": 194,
      "outputs": [
        {
          "output_type": "execute_result",
          "data": {
            "text/plain": [
              "Text(0, 0.5, 'Tempo')"
            ]
          },
          "metadata": {
            "tags": []
          },
          "execution_count": 194
        },
        {
          "output_type": "display_data",
          "data": {
            "image/png": "[encoded data removed]",
            "text/plain": [
              "<Figure size 432x288 with 1 Axes>"
            ]
          },
          "metadata": {
            "tags": [],
            "needs_background": "light"
          }
        }
      ]
    },
    {
      "cell_type": "code",
      "metadata": {
        "id": "YUE4ROZ1zyI8",
        "colab_type": "code",
        "colab": {}
      },
      "source": [
        ""
      ],
      "execution_count": null,
      "outputs": []
    }
  ]
}